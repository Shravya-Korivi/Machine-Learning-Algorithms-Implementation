{
  "nbformat": 4,
  "nbformat_minor": 0,
  "metadata": {
    "colab": {
      "provenance": []
    },
    "kernelspec": {
      "name": "python3",
      "display_name": "Python 3"
    },
    "language_info": {
      "name": "python"
    }
  },
  "cells": [
    {
      "cell_type": "code",
      "execution_count": 1,
      "metadata": {
        "id": "T1zv5_b-jld5"
      },
      "outputs": [],
      "source": [
        "import numpy as np\n",
        "\n",
        "class DecisionTree:\n",
        "    def __init__(self, max_depth=5, min_samples_split=2):\n",
        "        self.max_depth = max_depth\n",
        "        self.min_samples_split = min_samples_split\n",
        "        self.tree = None\n",
        "\n",
        "    def _gini(self, y):\n",
        "        classes = np.unique(y)\n",
        "        gini = 1.0\n",
        "        for c in classes:\n",
        "            p = np.sum(y == c) / len(y)\n",
        "            gini -= p ** 2\n",
        "        return gini\n",
        "\n",
        "    def _best_split(self, X, y):\n",
        "        best_feat, best_thresh = None, None\n",
        "        best_gini = 1.0\n",
        "        n_samples, n_features = X.shape\n",
        "\n",
        "        for feature in range(n_features):\n",
        "            thresholds = np.unique(X[:, feature])\n",
        "            for thresh in thresholds:\n",
        "                left = y[X[:, feature] <= thresh]\n",
        "                right = y[X[:, feature] > thresh]\n",
        "                if len(left) == 0 or len(right) == 0:\n",
        "                    continue\n",
        "                gini_left = self._gini(left)\n",
        "                gini_right = self._gini(right)\n",
        "                weighted_gini = (len(left)/n_samples)*gini_left + (len(right)/n_samples)*gini_right\n",
        "\n",
        "                if weighted_gini < best_gini:\n",
        "                    best_gini = weighted_gini\n",
        "                    best_feat = feature\n",
        "                    best_thresh = thresh\n",
        "\n",
        "        return best_feat, best_thresh\n",
        "\n",
        "    def _build_tree(self, X, y, depth=0):\n",
        "        if (depth >= self.max_depth or len(np.unique(y)) == 1 or len(y) < self.min_samples_split):\n",
        "            return np.bincount(y).argmax()\n",
        "\n",
        "        feat, thresh = self._best_split(X, y)\n",
        "        if feat is None:\n",
        "            return np.bincount(y).argmax()\n",
        "\n",
        "        left_idx = X[:, feat] <= thresh\n",
        "        right_idx = X[:, feat] > thresh\n",
        "\n",
        "        left_child = self._build_tree(X[left_idx], y[left_idx], depth + 1)\n",
        "        right_child = self._build_tree(X[right_idx], y[right_idx], depth + 1)\n",
        "\n",
        "        return (feat, thresh, left_child, right_child)\n",
        "\n",
        "    def fit(self, X, y):\n",
        "        self.tree = self._build_tree(X, y)\n",
        "\n",
        "    def _predict_one(self, x, tree):\n",
        "        if not isinstance(tree, tuple):\n",
        "            return tree\n",
        "        feat, thresh, left, right = tree\n",
        "        if x[feat] <= thresh:\n",
        "            return self._predict_one(x, left)\n",
        "        else:\n",
        "            return self._predict_one(x, right)\n",
        "\n",
        "    def predict(self, X):\n",
        "        return np.array([self._predict_one(sample, self.tree) for sample in X])\n"
      ]
    },
    {
      "cell_type": "code",
      "source": [
        "from sklearn.datasets import load_iris\n",
        "from sklearn.model_selection import train_test_split\n",
        "from sklearn.metrics import accuracy_score\n",
        "\n",
        "data = load_iris()\n",
        "X, y = data.data, data.target\n",
        "X_train, X_test, y_train, y_test = train_test_split(X, y, test_size=0.3, random_state=42)\n",
        "\n",
        "tree = DecisionTree(max_depth=3)\n",
        "tree.fit(X_train, y_train)\n",
        "y_pred = tree.predict(X_test)\n",
        "\n",
        "print(\"Accuracy:\", accuracy_score(y_test, y_pred))\n"
      ],
      "metadata": {
        "colab": {
          "base_uri": "https://localhost:8080/"
        },
        "id": "0rxqtU1jjyfX",
        "outputId": "d294330c-7a34-429c-fa12-133a0ec2818f"
      },
      "execution_count": 2,
      "outputs": [
        {
          "output_type": "stream",
          "name": "stdout",
          "text": [
            "Accuracy: 0.9555555555555556\n"
          ]
        }
      ]
    }
  ]
}